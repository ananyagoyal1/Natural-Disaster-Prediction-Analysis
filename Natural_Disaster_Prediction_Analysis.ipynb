{
  "nbformat": 4,
  "nbformat_minor": 0,
  "metadata": {
    "colab": {
      "provenance": []
    },
    "kernelspec": {
      "name": "python3",
      "display_name": "Python 3"
    },
    "language_info": {
      "name": "python"
    }
  },
  "cells": [
    {
      "cell_type": "markdown",
      "source": [
        "###1. Mouting the google drive"
      ],
      "metadata": {
        "id": "GMoNsmpx988r"
      }
    },
    {
      "cell_type": "code",
      "source": [
        "from google.colab import drive\n",
        "drive.mount('/gdrive')"
      ],
      "metadata": {
        "id": "le5ExV9v-B3o"
      },
      "execution_count": null,
      "outputs": []
    },
    {
      "cell_type": "markdown",
      "source": [
        "###2. Import required libraries"
      ],
      "metadata": {
        "id": "b2FbszVx-GOM"
      }
    },
    {
      "cell_type": "code",
      "source": [
        "from colorthief import ColorThief\n",
        "from PIL import Image\n",
        "import csv\n",
        "import os"
      ],
      "metadata": {
        "id": "fvSuaEP_-JEY"
      },
      "execution_count": null,
      "outputs": []
    },
    {
      "cell_type": "markdown",
      "source": [
        "###3.Unzip the files and store in appropriate folders\n",
        "\n",
        "Note : To delete a folder from the current working environment use the command\n",
        "\n",
        "!rm -rf /content/[foldername]\n"
      ],
      "metadata": {
        "id": "7DYKO852-TKG"
      }
    },
    {
      "cell_type": "code",
      "source": [
        "!apt install unzip"
      ],
      "metadata": {
        "id": "ksBuXr3Q-x66"
      },
      "execution_count": null,
      "outputs": []
    },
    {
      "cell_type": "code",
      "source": [
        "!unzip /content/gdrive/MyDrive/MATH\\ PROJECT/cyclone.zip"
      ],
      "metadata": {
        "id": "u0Ot58eX-0qb"
      },
      "execution_count": null,
      "outputs": []
    },
    {
      "cell_type": "code",
      "source": [
        "!mkdir Cyclone"
      ],
      "metadata": {
        "id": "IUQFovvJ-20T"
      },
      "execution_count": null,
      "outputs": []
    },
    {
      "cell_type": "code",
      "source": [
        "!mv * Cyclone/"
      ],
      "metadata": {
        "id": "5Mdlr1uj-5_M"
      },
      "execution_count": null,
      "outputs": []
    },
    {
      "cell_type": "code",
      "source": [
        "filepaths = []\n",
        "dir_path = \"/content/Cyclone\"\n",
        "\n",
        "for path in os.listdir(dir_path):\n",
        "    if os.path.isfile(os.path.join(dir_path, path)):\n",
        "        filepaths.append(dir_path + \"/\" + path)"
      ],
      "metadata": {
        "id": "exdlXTf8-9Gd"
      },
      "execution_count": null,
      "outputs": []
    },
    {
      "cell_type": "markdown",
      "source": [
        "###4. Extract dominant color"
      ],
      "metadata": {
        "id": "xlSyyvpi--r6"
      }
    },
    {
      "cell_type": "code",
      "source": [
        "def get_dominant_color(img_path):\n",
        "    image = ColorThief(img_path)\n",
        "    dominant_color = image.get_color(quality = 1)\n",
        "    return dominant_color"
      ],
      "metadata": {
        "id": "01mxSO6S_BW-"
      },
      "execution_count": null,
      "outputs": []
    },
    {
      "cell_type": "markdown",
      "source": [
        "###5. Convert qualitative data into qunatitative data, and store in csv file"
      ],
      "metadata": {
        "id": "i_K3km5H_GWt"
      }
    },
    {
      "cell_type": "code",
      "source": [
        "fields = ['ID', 'R', 'G', 'B', 'Label']"
      ],
      "metadata": {
        "id": "uBu4I8A-_FsL"
      },
      "execution_count": null,
      "outputs": []
    },
    {
      "cell_type": "code",
      "source": [
        "with open('cyclone_dataset.csv', 'w', newline = '') as csv_file:\n",
        "    writer = csv.writer(csv_file)\n",
        "    writer.writerow(fields)\n",
        "\n",
        "    for path in filepaths:\n",
        "        name = path.split('/')[-1]\n",
        "        name = 'C' + name[:name.find('.')]\n",
        "        row = [name]\n",
        "        data = get_dominant_color(path)\n",
        "        row.extend(data)\n",
        "        row.append('Cyclone')\n",
        "        writer.writerow(row)"
      ],
      "metadata": {
        "id": "xzoQKdJ2_Rwf"
      },
      "execution_count": null,
      "outputs": []
    },
    {
      "cell_type": "code",
      "source": [
        "#to view the contents of the file generated\n",
        "with open('cyclone_dataset.csv', 'r', newline = '') as csv_file:\n",
        "    lines = csv.reader(csv_file)\n",
        "    for line in lines:\n",
        "        print(line)"
      ],
      "metadata": {
        "id": "V5qdqZA5_ZSf"
      },
      "execution_count": null,
      "outputs": []
    }
  ]
}